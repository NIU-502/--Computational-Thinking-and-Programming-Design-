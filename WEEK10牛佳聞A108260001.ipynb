{
  "nbformat": 4,
  "nbformat_minor": 0,
  "metadata": {
    "colab": {
      "name": "WEEK10牛佳聞A108260001.ipynb",
      "provenance": [],
      "include_colab_link": true
    },
    "kernelspec": {
      "name": "python3",
      "display_name": "Python 3"
    }
  },
  "cells": [
    {
      "cell_type": "markdown",
      "metadata": {
        "id": "view-in-github",
        "colab_type": "text"
      },
      "source": [
        "<a href=\"https://colab.research.google.com/github/NIU-502/--Computational-Thinking-and-Programming-Design-/blob/master/WEEK10%E7%89%9B%E4%BD%B3%E8%81%9EA108260001.ipynb\" target=\"_parent\"><img src=\"https://colab.research.google.com/assets/colab-badge.svg\" alt=\"Open In Colab\"/></a>"
      ]
    },
    {
      "cell_type": "code",
      "metadata": {
        "id": "oUMqObsHU_XW",
        "colab_type": "code",
        "colab": {
          "base_uri": "https://localhost:8080/",
          "height": 102
        },
        "outputId": "3ec15d49-2a18-443f-99bb-42d8aaaefe10"
      },
      "source": [
        "print(\"You are on a deserted island in a 2D world.\")\n",
        "print(\"Try to survive untill rescue arrives!\")\n",
        "print(\"Available commands are in CAPITAL letters.\")\n",
        "print(\"Any other command exits the program\")\n",
        "print(\"First LOOK around \")"
      ],
      "execution_count": 1,
      "outputs": [
        {
          "output_type": "stream",
          "text": [
            "You are on a deserted island in a 2D world.\n",
            "Try to survive untill rescue arrives!\n",
            "Available commands are in CAPITAL letters.\n",
            "Any other command exits the program\n",
            "First LOOK around \n"
          ],
          "name": "stdout"
        }
      ]
    },
    {
      "cell_type": "code",
      "metadata": {
        "id": "5CwKgvg-eW8x",
        "colab_type": "code",
        "colab": {
          "base_uri": "https://localhost:8080/",
          "height": 131
        },
        "outputId": "ba80ed22-a569-47c4-beaa-8625454ecec4"
      },
      "source": [
        "do = input(\"::\")\n",
        "if do == \"LOOK\":\n",
        "    print(\"You are stuck in a sand ditch.\")\n",
        "    print(\"Crawl out LEFT or RIGHT.\")\n",
        "    do = input(\"::\")\n",
        "    if do == \"LEFT\":\n",
        "        print(\"You see a STARFISH and a CRAB on the sand.\")\n",
        "        print(\"And you're hungry! Which do you eat?\")\n",
        "        do = input(\"::\")\n",
        "        if do == \"STARFISH\"\n",
        "            print(\"Oh no! You immediately don't feel well.\")\n",
        "            print(\"You do not survive :(\")\n",
        "        elif do == \"CRAB\":\n",
        "            print(\"Raw crab should be fine, right? YES or NO.\")\n",
        "            do = input(\"::\")\n",
        "            if do == \"YES\":\n",
        "                print(\"Ok, You eat it raw. Fingers crossed.\")\n",
        "                print(\"Food in your belly helps you see a TREE.\")\n",
        "              do = input(\"::\")\n",
        "              if do == \"TREE\":\n",
        "                  print(\"It's a coconut tree! And you're thirsty!\")\n",
        "                  print(\"Do you drink the coconut water? YES or NO.\")\n",
        "                  do = input(\"::\")\n",
        "                 if do == \"YES\":\n",
        "                     print(\"Oh boy. Coconut water and raw crab don't mix.\")\n",
        "                     print(\"You do not survive :(\")\n",
        "                elif do == \"NO\":\n",
        "                    print(\"Good choice.\")\n",
        "                    print(\"Look! It's a rescue plane! You made it! \\o/\") \n",
        "        elif do == \"NO\":\n",
        "            print(\"Well, there's nothing else left to eat.\")\n",
        "            print(\"You do not survive :(\")\n",
        "elif do == \"RIGHT\": \n",
        "    print(\"No can do. That side is very slippery.\") \n",
        "    print(\"You fall very far into some weird cavern.\")\n",
        "    print(\"You do not survive :(\") \n",
        "else:\n",
        "     print(\"You can only do actions shown in capital letters.\") \n",
        "     print(\"Try again!\") "
      ],
      "execution_count": 8,
      "outputs": [
        {
          "output_type": "error",
          "ename": "SyntaxError",
          "evalue": "ignored",
          "traceback": [
            "\u001b[0;36m  File \u001b[0;32m\"<ipython-input-8-8993e0749d01>\"\u001b[0;36m, line \u001b[0;32m10\u001b[0m\n\u001b[0;31m    if do == \"STARFISH\"\u001b[0m\n\u001b[0m                       ^\u001b[0m\n\u001b[0;31mSyntaxError\u001b[0m\u001b[0;31m:\u001b[0m invalid syntax\n"
          ]
        }
      ]
    },
    {
      "cell_type": "code",
      "metadata": {
        "id": "ebPXau3EhBc1",
        "colab_type": "code",
        "colab": {
          "base_uri": "https://localhost:8080/",
          "height": 68
        },
        "outputId": "44048e71-cb84-4190-c382-ffa1722c9408"
      },
      "source": [
        "import random\n",
        "my = int(input(\"請出拳 【0】 剪刀 【1】 石頭 【2】 布\"))\n",
        "print(\"我出拳為\", my)\n",
        "computer = random.randint(0, 2)\n",
        "print(\"電腦出拳為\", computer)"
      ],
      "execution_count": 11,
      "outputs": [
        {
          "output_type": "stream",
          "text": [
            "請出拳 【0】 剪刀 【1】 石頭 【2】 布1\n",
            "我出拳為 1\n",
            "電腦出拳為 0\n"
          ],
          "name": "stdout"
        }
      ]
    },
    {
      "cell_type": "code",
      "metadata": {
        "id": "i6U8z7iuhLne",
        "colab_type": "code",
        "colab": {
          "base_uri": "https://localhost:8080/",
          "height": 34
        },
        "outputId": "d11569f6-7af2-4189-aa9d-6ef71aeaf946"
      },
      "source": [
        "if my == 0:\n",
        "        if computer == 0:\n",
        "            print('平手')\n",
        "        elif computer == 1:\n",
        "            print('電腦獲勝')\n",
        "        else:\n",
        "            print('玩家獲勝')\n",
        "elif my == 1:\n",
        "        if computer == 0:\n",
        "            print('玩家獲勝')\n",
        "        elif computer == 1:\n",
        "            print('平手')\n",
        "        else:\n",
        "            print('電腦獲勝')\n",
        "else:\n",
        "        if computer == 1:\n",
        "            print('電腦獲勝')\n",
        "        elif computer == 2:\n",
        "            print('玩家獲勝')\n",
        "        else:\n",
        "            print('平手')"
      ],
      "execution_count": 12,
      "outputs": [
        {
          "output_type": "stream",
          "text": [
            "玩家獲勝\n"
          ],
          "name": "stdout"
        }
      ]
    },
    {
      "cell_type": "code",
      "metadata": {
        "id": "XKUkfTkqhx_8",
        "colab_type": "code",
        "colab": {
          "base_uri": "https://localhost:8080/",
          "height": 68
        },
        "outputId": "a7c693fe-1f4f-4b3e-abe3-ad157d659b0a"
      },
      "source": [
        "import random\n",
        "my_choice = int(input(\"請出拳 [0] 剪刀 [1] 石頭 [2] 布\"))\n",
        "print(\"我出拳為\", my_choice)\n",
        "com_choice = random.randint(0, 2)\n",
        "print(\"電腦出拳為\", com_choice)"
      ],
      "execution_count": 13,
      "outputs": [
        {
          "output_type": "stream",
          "text": [
            "請出拳 [0] 剪刀 [1] 石頭 [2] 布1\n",
            "我出拳為 1\n",
            "電腦出拳為 0\n"
          ],
          "name": "stdout"
        }
      ]
    },
    {
      "cell_type": "code",
      "metadata": {
        "id": "e7_ZwR1mil0l",
        "colab_type": "code",
        "colab": {
          "base_uri": "https://localhost:8080/",
          "height": 34
        },
        "outputId": "41047614-52dd-4800-f2f3-4b12bb60c70b"
      },
      "source": [
        "if my_choice == (com_choice + 1) % 3:\n",
        "    print(\"我贏了\")\n",
        "elif my_choice == com_choice:\n",
        "    print(\"平手\") \n",
        "else:\n",
        "    print(\"我輸了\")"
      ],
      "execution_count": 14,
      "outputs": [
        {
          "output_type": "stream",
          "text": [
            "我贏了\n"
          ],
          "name": "stdout"
        }
      ]
    },
    {
      "cell_type": "code",
      "metadata": {
        "id": "BYJwCehyjfoO",
        "colab_type": "code",
        "colab": {}
      },
      "source": [
        ""
      ],
      "execution_count": 0,
      "outputs": []
    }
  ]
}