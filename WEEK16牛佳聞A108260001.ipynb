{
  "nbformat": 4,
  "nbformat_minor": 0,
  "metadata": {
    "colab": {
      "name": "WEEK16牛佳聞A108260001.ipynb",
      "provenance": [],
      "include_colab_link": true
    },
    "kernelspec": {
      "name": "python3",
      "display_name": "Python 3"
    }
  },
  "cells": [
    {
      "cell_type": "markdown",
      "metadata": {
        "id": "view-in-github",
        "colab_type": "text"
      },
      "source": [
        "<a href=\"https://colab.research.google.com/github/NIU-502/--Computational-Thinking-and-Programming-Design-/blob/master/WEEK16%E7%89%9B%E4%BD%B3%E8%81%9EA108260001.ipynb\" target=\"_parent\"><img src=\"https://colab.research.google.com/assets/colab-badge.svg\" alt=\"Open In Colab\"/></a>"
      ]
    },
    {
      "cell_type": "code",
      "metadata": {
        "id": "4oj_0Zi-wUrj",
        "colab_type": "code",
        "colab": {
          "base_uri": "https://localhost:8080/",
          "height": 51
        },
        "outputId": "b9f9ec21-4161-49ab-fc5b-9c2bf0398dba"
      },
      "source": [
        "answer = \"a123\"\n",
        "\n",
        "while True:\n",
        "    password = input(\"Enter your password?\")\n",
        "    if password == answer:\n",
        "        print(\"ENTER THE PASSWORD\")\n",
        "        break\n",
        "    else:\n",
        "        print(\"Try Again\")"
      ],
      "execution_count": 3,
      "outputs": [
        {
          "output_type": "stream",
          "text": [
            "Enter your password?a123\n",
            "ENTER THE PASSWORD\n"
          ],
          "name": "stdout"
        }
      ]
    },
    {
      "cell_type": "code",
      "metadata": {
        "id": "pejqsUea00rj",
        "colab_type": "code",
        "colab": {
          "base_uri": "https://localhost:8080/",
          "height": 85
        },
        "outputId": "863c8ed6-5e92-40b4-8f88-d1cf75f0d02b"
      },
      "source": [
        "answer = \"b456\"\n",
        "while True:\n",
        "    ID = input(\"enter your ID?\")\n",
        "    if ID == answer:\n",
        "        print(\"enter the ID\")\n",
        "        break\n",
        "answer = \"c789\"\n",
        "\n",
        "while True:\n",
        "    password = input(\"Enter your password?\")\n",
        "    if password == answer:\n",
        "        print(\"ENTER THE PASSWORD\")\n",
        "        break\n",
        "    else:\n",
        "        print(\"Try Again\")   "
      ],
      "execution_count": 6,
      "outputs": [
        {
          "output_type": "stream",
          "text": [
            "enter your ID?b456\n",
            "enter the ID\n",
            "Enter your password?c789\n",
            "ENTER THE PASSWORD\n"
          ],
          "name": "stdout"
        }
      ]
    },
    {
      "cell_type": "code",
      "metadata": {
        "id": "cWv1vDr2072o",
        "colab_type": "code",
        "colab": {
          "base_uri": "https://localhost:8080/",
          "height": 68
        },
        "outputId": "ec00e3dc-c955-4baf-adb4-57a59310fed5"
      },
      "source": [
        "for i in range(2,5):\n",
        "    print(i)"
      ],
      "execution_count": 7,
      "outputs": [
        {
          "output_type": "stream",
          "text": [
            "2\n",
            "3\n",
            "4\n"
          ],
          "name": "stdout"
        }
      ]
    },
    {
      "cell_type": "code",
      "metadata": {
        "id": "Tk6EDuos4p5G",
        "colab_type": "code",
        "colab": {
          "base_uri": "https://localhost:8080/",
          "height": 102
        },
        "outputId": "35ec2173-b1a8-4c7c-8d4f-9a020dcf46e7"
      },
      "source": [
        "for i in range(5):\n",
        "    print(i)"
      ],
      "execution_count": 8,
      "outputs": [
        {
          "output_type": "stream",
          "text": [
            "0\n",
            "1\n",
            "2\n",
            "3\n",
            "4\n"
          ],
          "name": "stdout"
        }
      ]
    },
    {
      "cell_type": "code",
      "metadata": {
        "id": "Zx2-dC2W4u_N",
        "colab_type": "code",
        "colab": {
          "base_uri": "https://localhost:8080/",
          "height": 68
        },
        "outputId": "66ec0e90-243d-492e-d328-1f216c4584fa"
      },
      "source": [
        "for i in range(2,10,3):\n",
        "    print(i)"
      ],
      "execution_count": 9,
      "outputs": [
        {
          "output_type": "stream",
          "text": [
            "2\n",
            "5\n",
            "8\n"
          ],
          "name": "stdout"
        }
      ]
    },
    {
      "cell_type": "code",
      "metadata": {
        "id": "TpkWNX7d4y_Z",
        "colab_type": "code",
        "colab": {
          "base_uri": "https://localhost:8080/",
          "height": 85
        },
        "outputId": "b2173b4b-aa79-4bd1-bffb-8672b6c35d73"
      },
      "source": [
        "for i in range(3,15,3):\n",
        "    print(i)"
      ],
      "execution_count": 12,
      "outputs": [
        {
          "output_type": "stream",
          "text": [
            "3\n",
            "6\n",
            "9\n",
            "12\n"
          ],
          "name": "stdout"
        }
      ]
    },
    {
      "cell_type": "code",
      "metadata": {
        "id": "tdfqlPNV6ltL",
        "colab_type": "code",
        "colab": {
          "base_uri": "https://localhost:8080/",
          "height": 136
        },
        "outputId": "4a085f31-c837-4836-f1ef-4c1ec3e996cf"
      },
      "source": [
        "start = int(input(\"enter a number?\"))\n",
        "end = int(input(\"enter a number?\"))\n",
        "step =int(input(\"enter a number?\"))\n",
        "sum = 0\n",
        "for i in range(start, end, step):\n",
        "    sum = sum + i\n",
        "    print(\"i is\", i, \"sum equals\", sum)"
      ],
      "execution_count": 13,
      "outputs": [
        {
          "output_type": "stream",
          "text": [
            "enter a number?3\n",
            "enter a number?13\n",
            "enter a number?3\n",
            "i is 3 sum equals 3\n",
            "i is 6 sum equals 9\n",
            "i is 9 sum equals 18\n",
            "i is 12 sum equals 30\n"
          ],
          "name": "stdout"
        }
      ]
    },
    {
      "cell_type": "code",
      "metadata": {
        "id": "hpYR4Nkk8KM3",
        "colab_type": "code",
        "colab": {}
      },
      "source": [
        ""
      ],
      "execution_count": 0,
      "outputs": []
    }
  ]
}