{
  "nbformat": 4,
  "nbformat_minor": 0,
  "metadata": {
    "colab": {
      "name": "WEEK11牛佳聞A108260001.ipynb",
      "provenance": [],
      "include_colab_link": true
    },
    "kernelspec": {
      "name": "python3",
      "display_name": "Python 3"
    }
  },
  "cells": [
    {
      "cell_type": "markdown",
      "metadata": {
        "id": "view-in-github",
        "colab_type": "text"
      },
      "source": [
        "<a href=\"https://colab.research.google.com/github/NIU-502/--Computational-Thinking-and-Programming-Design-/blob/master/WEEK11%E7%89%9B%E4%BD%B3%E8%81%9EA108260001.ipynb\" target=\"_parent\"><img src=\"https://colab.research.google.com/assets/colab-badge.svg\" alt=\"Open In Colab\"/></a>"
      ]
    },
    {
      "cell_type": "code",
      "metadata": {
        "id": "sM2AAif1nQB_",
        "colab_type": "code",
        "colab": {
          "base_uri": "https://localhost:8080/",
          "height": 51
        },
        "outputId": "109b3420-8a2b-4c20-c0e6-847d1f1b0541"
      },
      "source": [
        "座號 = int(input('請輸入座號?'))\n",
        "組別 = (座號-1)//5+1\n",
        "print('組別為', 組別)"
      ],
      "execution_count": 1,
      "outputs": [
        {
          "output_type": "stream",
          "text": [
            "請輸入座號?19\n",
            "組別為 4\n"
          ],
          "name": "stdout"
        }
      ]
    },
    {
      "cell_type": "code",
      "metadata": {
        "id": "ahLoo5Ddnabn",
        "colab_type": "code",
        "colab": {
          "base_uri": "https://localhost:8080/",
          "height": 51
        },
        "outputId": "14bcc652-d7b2-4c6f-d342-927c2aae8691"
      },
      "source": [
        "print(False)\n",
        "print(True)"
      ],
      "execution_count": 2,
      "outputs": [
        {
          "output_type": "stream",
          "text": [
            "False\n",
            "True\n"
          ],
          "name": "stdout"
        }
      ]
    },
    {
      "cell_type": "code",
      "metadata": {
        "id": "1NMvdDMRnlzz",
        "colab_type": "code",
        "colab": {
          "base_uri": "https://localhost:8080/",
          "height": 51
        },
        "outputId": "cb5b9f05-c2a3-4759-80f8-e774f52c8e2f"
      },
      "source": [
        "print(False == 0)\n",
        "print(True == 1)"
      ],
      "execution_count": 3,
      "outputs": [
        {
          "output_type": "stream",
          "text": [
            "True\n",
            "True\n"
          ],
          "name": "stdout"
        }
      ]
    },
    {
      "cell_type": "code",
      "metadata": {
        "id": "6nWNPhOHohlA",
        "colab_type": "code",
        "colab": {
          "base_uri": "https://localhost:8080/",
          "height": 51
        },
        "outputId": "54bcab53-04fb-442a-9af3-0c72f2efc6f9"
      },
      "source": [
        "print(False + 3)\n",
        "print(True + 3)"
      ],
      "execution_count": 4,
      "outputs": [
        {
          "output_type": "stream",
          "text": [
            "3\n",
            "4\n"
          ],
          "name": "stdout"
        }
      ]
    },
    {
      "cell_type": "code",
      "metadata": {
        "id": "2NQ4qLD1osrO",
        "colab_type": "code",
        "colab": {
          "base_uri": "https://localhost:8080/",
          "height": 68
        },
        "outputId": "17f50191-f289-4a61-d38a-e55502b4f068"
      },
      "source": [
        "print(bool(1))\n",
        "print(bool(0))\n",
        "print(bool(()))"
      ],
      "execution_count": 5,
      "outputs": [
        {
          "output_type": "stream",
          "text": [
            "True\n",
            "False\n",
            "False\n"
          ],
          "name": "stdout"
        }
      ]
    },
    {
      "cell_type": "code",
      "metadata": {
        "id": "H5HSbLJgo08Y",
        "colab_type": "code",
        "colab": {
          "base_uri": "https://localhost:8080/",
          "height": 34
        },
        "outputId": "cfa963dc-8b80-4854-95b2-80e89030bbb6"
      },
      "source": [
        "name = \"Jolin\"\n",
        "question = \"Are you Jolin?\"\n",
        "print(question + name)"
      ],
      "execution_count": 6,
      "outputs": [
        {
          "output_type": "stream",
          "text": [
            "Are you Jolin?Jolin\n"
          ],
          "name": "stdout"
        }
      ]
    },
    {
      "cell_type": "code",
      "metadata": {
        "id": "LLwqNR-ttSKO",
        "colab_type": "code",
        "colab": {
          "base_uri": "https://localhost:8080/",
          "height": 34
        },
        "outputId": "0c4ed24d-1d89-43b3-eacc-048484563d8e"
      },
      "source": [
        "s1 =\"123\"\n",
        "s2 =\"456\"\n",
        "s3 = s1 + s2\n",
        "print(s3)"
      ],
      "execution_count": 7,
      "outputs": [
        {
          "output_type": "stream",
          "text": [
            "123456\n"
          ],
          "name": "stdout"
        }
      ]
    },
    {
      "cell_type": "code",
      "metadata": {
        "id": "GcQrRWyptlOx",
        "colab_type": "code",
        "colab": {
          "base_uri": "https://localhost:8080/",
          "height": 204
        },
        "outputId": "82a7db07-8323-4909-f127-9b6620cca900"
      },
      "source": [
        "s = '0123456789'\n",
        "\n",
        "print('s=', s, 's[:]=', s[:]) \n",
        "print('s=', s, 's[5:]=', s[5:]) \n",
        "print('s=', s, 's[-2:]=', s[-2:])\n",
        "print('s=', s, 's[:5]=', s[:5]) \n",
        "print('s=', s, 's[:-2]=', s[:-2])\n",
        "\n",
        "print('s=', s, 's[7:9]=', s[7:9])\n",
        "print('s=', s, 's[-4:-1]=', s[-4:-1])\n",
        "print('s=', s, 's[5:-2]=', s[5:-2])\n",
        "print('s=', s, 's[2:10:2]=', s[2:10:2])\n",
        "print('s=', s, 's[::-1]=', s[::-1])\n",
        "print('s=', s, 's[-1::-1]=', s[-1::-1])"
      ],
      "execution_count": 8,
      "outputs": [
        {
          "output_type": "stream",
          "text": [
            "s= 0123456789 s[:]= 0123456789\n",
            "s= 0123456789 s[5:]= 56789\n",
            "s= 0123456789 s[-2:]= 89\n",
            "s= 0123456789 s[:5]= 01234\n",
            "s= 0123456789 s[:-2]= 01234567\n",
            "s= 0123456789 s[7:9]= 78\n",
            "s= 0123456789 s[-4:-1]= 678\n",
            "s= 0123456789 s[5:-2]= 567\n",
            "s= 0123456789 s[2:10:2]= 2468\n",
            "s= 0123456789 s[::-1]= 9876543210\n",
            "s= 0123456789 s[-1::-1]= 9876543210\n"
          ],
          "name": "stdout"
        }
      ]
    },
    {
      "cell_type": "code",
      "metadata": {
        "id": "GQzaOd7pvvlx",
        "colab_type": "code",
        "colab": {}
      },
      "source": [
        ""
      ],
      "execution_count": 0,
      "outputs": []
    }
  ]
}