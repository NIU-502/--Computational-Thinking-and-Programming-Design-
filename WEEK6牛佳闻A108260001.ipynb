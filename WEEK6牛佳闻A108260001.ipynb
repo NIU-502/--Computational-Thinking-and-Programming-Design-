{
  "nbformat": 4,
  "nbformat_minor": 0,
  "metadata": {
    "colab": {
      "name": "WEEK6牛佳闻A108260001.ipynb",
      "provenance": [],
      "include_colab_link": true
    },
    "kernelspec": {
      "name": "python3",
      "display_name": "Python 3"
    }
  },
  "cells": [
    {
      "cell_type": "markdown",
      "metadata": {
        "id": "view-in-github",
        "colab_type": "text"
      },
      "source": [
        "<a href=\"https://colab.research.google.com/github/NIU-502/--Computational-Thinking-and-Programming-Design-/blob/master/WEEK6%E7%89%9B%E4%BD%B3%E9%97%BBA108260001.ipynb\" target=\"_parent\"><img src=\"https://colab.research.google.com/assets/colab-badge.svg\" alt=\"Open In Colab\"/></a>"
      ]
    },
    {
      "cell_type": "code",
      "metadata": {
        "id": "9YSkW242fG4H",
        "colab_type": "code",
        "colab": {
          "base_uri": "https://localhost:8080/",
          "height": 102
        },
        "outputId": "2c0f17f6-573a-474d-b036-489a13dce175"
      },
      "source": [
        "a = int(input('請輸入第一次期中考成績？'))\n",
        "b= int(input('請輸入第二次期中考成績？'))\n",
        "c= int(input('請輸入期末考成績？'))\n",
        "總成績 = a + b + c\n",
        "print('計算分數的加總為', 總成績)\n",
        "平均 =(a+b+c)/3\n",
        "print('計算分數的平均為', 平均)"
      ],
      "execution_count": 9,
      "outputs": [
        {
          "output_type": "stream",
          "text": [
            "請輸入第一次期中考成績？75\n",
            "請輸入第二次期中考成績？80\n",
            "請輸入期末考成績？65\n",
            "計算分數的加總為 220\n",
            "計算分數的平均為 73.33333333333333\n"
          ],
          "name": "stdout"
        }
      ]
    },
    {
      "cell_type": "code",
      "metadata": {
        "id": "u3StnsOyfh1_",
        "colab_type": "code",
        "colab": {}
      },
      "source": [
        ""
      ],
      "execution_count": 0,
      "outputs": []
    }
  ]
}