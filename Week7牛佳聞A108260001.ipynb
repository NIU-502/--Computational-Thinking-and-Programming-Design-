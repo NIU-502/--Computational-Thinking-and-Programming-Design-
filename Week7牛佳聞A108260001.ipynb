{
  "nbformat": 4,
  "nbformat_minor": 0,
  "metadata": {
    "colab": {
      "name": "Week7牛佳聞A108260001.ipynb",
      "provenance": [],
      "include_colab_link": true
    },
    "kernelspec": {
      "name": "python3",
      "display_name": "Python 3"
    }
  },
  "cells": [
    {
      "cell_type": "markdown",
      "metadata": {
        "id": "view-in-github",
        "colab_type": "text"
      },
      "source": [
        "<a href=\"https://colab.research.google.com/github/NIU-502/--Computational-Thinking-and-Programming-Design-/blob/master/Week7%E7%89%9B%E4%BD%B3%E8%81%9EA108260001.ipynb\" target=\"_parent\"><img src=\"https://colab.research.google.com/assets/colab-badge.svg\" alt=\"Open In Colab\"/></a>"
      ]
    },
    {
      "cell_type": "code",
      "metadata": {
        "id": "8M9kPBi6UswI",
        "colab_type": "code",
        "colab": {
          "base_uri": "https://localhost:8080/",
          "height": 136
        },
        "outputId": "f8685803-3c16-4b1c-f1e1-4f342ea9938c"
      },
      "source": [
        "s1='春眠不覺曉,處處聞啼鳥。'\n",
        "print(s1)\n",
        "s2=\"夜來風雨聲,花落知多少。\"\n",
        "print(s2)\n",
        "s3='作者\"孟浩然\"詩名\"春曉\"'\n",
        "print(s3)\n",
        "s4=\"作者'孟浩然'詩名'春曉'\"\n",
        "print(s4)\n",
        "s5='''春眠不覺曉,處處聞啼鳥。\n",
        "夜來風雨聲,花落知多少。\n",
        "作者\"孟浩然\" 詩名\"春曉\"'''\n",
        "print(s5)\n"
      ],
      "execution_count": 4,
      "outputs": [
        {
          "output_type": "stream",
          "text": [
            "春眠不覺曉,處處聞啼鳥。\n",
            "夜來風雨聲,花落知多少。\n",
            "作者\"孟浩然\"詩名\"春曉\"\n",
            "作者'孟浩然'詩名'春曉'\n",
            "春眠不覺曉,處處聞啼鳥。\n",
            "夜來風雨聲,花落知多少。\n",
            "作者\"孟浩然\" 詩名\"春曉\"\n"
          ],
          "name": "stdout"
        }
      ]
    },
    {
      "cell_type": "code",
      "metadata": {
        "id": "ltoKRHJKWbne",
        "colab_type": "code",
        "colab": {
          "base_uri": "https://localhost:8080/",
          "height": 102
        },
        "outputId": "c65dbb18-6a8a-4479-bd0f-537c294cf1a5"
      },
      "source": [
        "s1='An apple a day'\n",
        "print(s1.capitalize)\n",
        "print(s1.title())\n",
        "print(s1.swapcase())\n",
        "print(s1.upper())\n",
        "print(s1.lower())"
      ],
      "execution_count": 5,
      "outputs": [
        {
          "output_type": "stream",
          "text": [
            "<built-in method capitalize of str object at 0x7f57f7202eb0>\n",
            "An Apple A Day\n",
            "aN APPLE A DAY\n",
            "AN APPLE A DAY\n",
            "an apple a day\n"
          ],
          "name": "stdout"
        }
      ]
    },
    {
      "cell_type": "code",
      "metadata": {
        "id": "0JLpstACXWD2",
        "colab_type": "code",
        "colab": {
          "base_uri": "https://localhost:8080/",
          "height": 131
        },
        "outputId": "969e55d5-ac49-4722-e58b-588eb083df16"
      },
      "source": [
        "s1='春眠不覺曉，處處聞啼鳥，夜來風雨聲，花落知多少。'\n",
        "print（s1.startwith('春眠')）\n",
        "print(s1.endswith('多少。'))\n",
        "s1='春眠不覺曉'\n",
        "print(s1.center(10))\n",
        "print(s1.rjust(10))\n",
        "print(s1.ljust(10))\n",
        "s1='123'\n",
        "print(s1.zfill(5))\n",
        "s1='Hello,Mary.'\n",
        "print(s1.strip())\n",
        "print(s1.lstrip('H'))\n",
        "print(s1.rstrip('.'))"
      ],
      "execution_count": 6,
      "outputs": [
        {
          "output_type": "error",
          "ename": "SyntaxError",
          "evalue": "ignored",
          "traceback": [
            "\u001b[0;36m  File \u001b[0;32m\"<ipython-input-6-d4bcf92f0b0e>\"\u001b[0;36m, line \u001b[0;32m2\u001b[0m\n\u001b[0;31m    print（s1.startwith('春眠')）\u001b[0m\n\u001b[0m           ^\u001b[0m\n\u001b[0;31mSyntaxError\u001b[0m\u001b[0;31m:\u001b[0m invalid character in identifier\n"
          ]
        }
      ]
    },
    {
      "cell_type": "code",
      "metadata": {
        "id": "rYcTRZgYYi7N",
        "colab_type": "code",
        "colab": {
          "base_uri": "https://localhost:8080/",
          "height": 131
        },
        "outputId": "e127733b-0baf-4e46-ebcb-f68bfbe205a3"
      },
      "source": [
        "t1=()\n",
        "print(t1)\n",
        "t2=1,2,3\n",
        "print（t2）\n",
        "t3=(1,2,3)\n",
        "print（t3）\n",
        "list1=【1，2，3，4】\n",
        "t4=tuple(list1)\n",
        "print(t4)\n",
        "t4=(1,2,3,4)\n",
        "t5=(t4,5,6)\n",
        "print(t5)\n",
        "t6=('z',)\n",
        "print(t6)"
      ],
      "execution_count": 7,
      "outputs": [
        {
          "output_type": "error",
          "ename": "SyntaxError",
          "evalue": "ignored",
          "traceback": [
            "\u001b[0;36m  File \u001b[0;32m\"<ipython-input-7-fa25b42d4985>\"\u001b[0;36m, line \u001b[0;32m4\u001b[0m\n\u001b[0;31m    print（t2）\u001b[0m\n\u001b[0m            ^\u001b[0m\n\u001b[0;31mSyntaxError\u001b[0m\u001b[0;31m:\u001b[0m invalid character in identifier\n"
          ]
        }
      ]
    },
    {
      "cell_type": "code",
      "metadata": {
        "id": "naF1o0SKbWsQ",
        "colab_type": "code",
        "colab": {
          "base_uri": "https://localhost:8080/",
          "height": 119
        },
        "outputId": "cc59e3e6-de13-4be1-cb0c-da87cc1b971e"
      },
      "source": [
        "shoplist=['牛奶','蛋','咖啡豆','西瓜','鳳梨']\n",
        "print('購物清單shoplist為')\n",
        "print(shoplist)\n",
        "listm=[1,2.0,'Python']\n",
        "print(\"串列可以包含各種資料型別的元素\")\n",
        "print(listm)\n",
        "list1=list('python')\n",
        "print(list1)\n",
        "tuple2=('a','b',1,2)\n",
        "list2=list(tuple2)\n",
        "print(list2)"
      ],
      "execution_count": 8,
      "outputs": [
        {
          "output_type": "stream",
          "text": [
            "購物清單shoplist為\n",
            "['牛奶', '蛋', '咖啡豆', '西瓜', '鳳梨']\n",
            "串列可以包含各種資料型別的元素\n",
            "[1, 2.0, 'Python']\n",
            "['p', 'y', 't', 'h', 'o', 'n']\n",
            "['a', 'b', 1, 2]\n"
          ],
          "name": "stdout"
        }
      ]
    },
    {
      "cell_type": "code",
      "metadata": {
        "id": "AEEAxbxWdrVB",
        "colab_type": "code",
        "colab": {
          "base_uri": "https://localhost:8080/",
          "height": 34
        },
        "outputId": "b334241b-9e37-4a50-9ca8-281b5bba26fa"
      },
      "source": [
        "shoplist=['牛奶','蛋','咖啡豆','西瓜','鳳梨']\n",
        "print('購物清單shoplist的長度為',len(shoplist))\n"
      ],
      "execution_count": 9,
      "outputs": [
        {
          "output_type": "stream",
          "text": [
            "購物清單shoplist的長度為 5\n"
          ],
          "name": "stdout"
        }
      ]
    },
    {
      "cell_type": "code",
      "metadata": {
        "id": "oiMvUgtcfjwv",
        "colab_type": "code",
        "colab": {
          "base_uri": "https://localhost:8080/",
          "height": 34
        },
        "outputId": "3feffb1a-baea-4188-af63-14b8faa6d6a1"
      },
      "source": [
        "shoplist1=['牛奶','蛋','咖啡豆']\n",
        "shoplist2=['西瓜','鳳梨']\n",
        "shoplist_all=shoplist1+shoplist2\n",
        "print(shoplist_all)"
      ],
      "execution_count": 10,
      "outputs": [
        {
          "output_type": "stream",
          "text": [
            "['牛奶', '蛋', '咖啡豆', '西瓜', '鳳梨']\n"
          ],
          "name": "stdout"
        }
      ]
    },
    {
      "cell_type": "code",
      "metadata": {
        "id": "xjgACEFJhMSV",
        "colab_type": "code",
        "colab": {}
      },
      "source": [
        "shoplist=['牛奶','蛋','咖啡豆','西瓜','鳳梨']"
      ],
      "execution_count": 0,
      "outputs": []
    },
    {
      "cell_type": "code",
      "metadata": {
        "id": "Zx_gDNmZiBq5",
        "colab_type": "code",
        "colab": {}
      },
      "source": [
        ""
      ],
      "execution_count": 0,
      "outputs": []
    }
  ]
}