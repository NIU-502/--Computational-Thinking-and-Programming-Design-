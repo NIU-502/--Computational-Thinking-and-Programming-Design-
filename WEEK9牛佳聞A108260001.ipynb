{
  "nbformat": 4,
  "nbformat_minor": 0,
  "metadata": {
    "colab": {
      "name": "WEEK9牛佳聞A108260001.ipynb",
      "provenance": [],
      "include_colab_link": true
    },
    "kernelspec": {
      "name": "python3",
      "display_name": "Python 3"
    }
  },
  "cells": [
    {
      "cell_type": "markdown",
      "metadata": {
        "id": "view-in-github",
        "colab_type": "text"
      },
      "source": [
        "<a href=\"https://colab.research.google.com/github/NIU-502/--Computational-Thinking-and-Programming-Design-/blob/master/WEEK9%E7%89%9B%E4%BD%B3%E8%81%9EA108260001.ipynb\" target=\"_parent\"><img src=\"https://colab.research.google.com/assets/colab-badge.svg\" alt=\"Open In Colab\"/></a>"
      ]
    },
    {
      "cell_type": "code",
      "metadata": {
        "id": "xv7uMRQUhqpv",
        "colab_type": "code",
        "colab": {
          "base_uri": "https://localhost:8080/",
          "height": 51
        },
        "outputId": "b60034ab-3418-47aa-ed87-9c5a8670a3ee"
      },
      "source": [
        "score = int(input('請輸入一個成績'))\n",
        "if score >= 60:\n",
        "    print('很好，請繼續保持下去')"
      ],
      "execution_count": 3,
      "outputs": [
        {
          "output_type": "stream",
          "text": [
            "請輸入一個成績88\n",
            "很好，請繼續保持下去\n"
          ],
          "name": "stdout"
        }
      ]
    },
    {
      "cell_type": "code",
      "metadata": {
        "id": "mqf3gNIbiIlR",
        "colab_type": "code",
        "colab": {
          "base_uri": "https://localhost:8080/",
          "height": 51
        },
        "outputId": "23dc3fb7-d405-4bb0-c31a-3b9b33da9e8a"
      },
      "source": [
        "score = int(input('請輸入一個成績？'))\n",
        "if score >= 60:\n",
        "    print('及格')\n",
        "else:\n",
        "    print('不及格')"
      ],
      "execution_count": 4,
      "outputs": [
        {
          "output_type": "stream",
          "text": [
            "請輸入一個成績？90\n",
            "及格\n"
          ],
          "name": "stdout"
        }
      ]
    },
    {
      "cell_type": "code",
      "metadata": {
        "id": "hJWmAOEdjHaX",
        "colab_type": "code",
        "colab": {
          "base_uri": "https://localhost:8080/",
          "height": 51
        },
        "outputId": "10e4871e-d72f-42c9-dbdf-441c00482b6d"
      },
      "source": [
        "score = int(input('請輸入一個成績?'))\n",
        "if score >= 80:\n",
        "    print('非常好')\n",
        "elif score >= 60:\n",
        "    print('不錯喔')\n",
        "else:\n",
        "    print('要加油')"
      ],
      "execution_count": 6,
      "outputs": [
        {
          "output_type": "stream",
          "text": [
            "請輸入一個成績?88\n",
            "非常好\n"
          ],
          "name": "stdout"
        }
      ]
    },
    {
      "cell_type": "code",
      "metadata": {
        "id": "pym2BqY7kpky",
        "colab_type": "code",
        "colab": {
          "base_uri": "https://localhost:8080/",
          "height": 68
        },
        "outputId": "c555f5bb-7a0e-44e1-8869-778943f30eb9"
      },
      "source": [
        "x = float(input('請輸入該點的X座標?'))\n",
        "y = float(input('請輸入該點的Y座標?'))\n",
        "\n",
        "if (x > 0):\n",
        "  if (y > 0):\n",
        "    print('該點在第一象限')\n",
        "  else:\n",
        "    print('該點在第四象限') \n",
        "else:\n",
        "  if (y > 0):\n",
        "    print('該點在第二象限') \n",
        "  else:\n",
        "    print('該點在第三象限')"
      ],
      "execution_count": 8,
      "outputs": [
        {
          "output_type": "stream",
          "text": [
            "請輸入該點的X座標?1\n",
            "請輸入該點的Y座標?1\n",
            "該點在第一象限\n"
          ],
          "name": "stdout"
        }
      ]
    },
    {
      "cell_type": "code",
      "metadata": {
        "id": "wJ-JdsKWk7Iu",
        "colab_type": "code",
        "colab": {
          "base_uri": "https://localhost:8080/",
          "height": 51
        },
        "outputId": "9033cab1-525b-4d9a-c631-8b73c188badb"
      },
      "source": [
        "cost = int(input('請輸入購買金額?'))\n",
        "if cost >= 2000:\n",
        "    print(cost * 0.9)\n",
        "else:\n",
        "    print(cost)"
      ],
      "execution_count": 9,
      "outputs": [
        {
          "output_type": "stream",
          "text": [
            "請輸入購買金額?2000\n",
            "1800.0\n"
          ],
          "name": "stdout"
        }
      ]
    },
    {
      "cell_type": "code",
      "metadata": {
        "id": "r1H8cqqQnNt_",
        "colab_type": "code",
        "colab": {
          "base_uri": "https://localhost:8080/",
          "height": 51
        },
        "outputId": "9e48186c-4fd0-4273-990c-6834bbbe9bb5"
      },
      "source": [
        "num = int(input('請輸入一個整數？'))\n",
        "if num % 2 == 0: \n",
        "    print(num, '為偶數')\n",
        "else:\n",
        "    print(num, '為奇數')"
      ],
      "execution_count": 10,
      "outputs": [
        {
          "output_type": "stream",
          "text": [
            "請輸入一個整數？13\n",
            "13 為奇數\n"
          ],
          "name": "stdout"
        }
      ]
    },
    {
      "cell_type": "code",
      "metadata": {
        "id": "GMqmJ9C2nmM4",
        "colab_type": "code",
        "colab": {
          "base_uri": "https://localhost:8080/",
          "height": 51
        },
        "outputId": "6981ed82-d28c-4f4d-f1fe-b308e268c425"
      },
      "source": [
        "num = int(input('請輸入一個整數？'))\n",
        "if num % 2 == 1:\n",
        "    print(num, '為奇數')\n",
        "else:\n",
        "    print(num, '為偶數')"
      ],
      "execution_count": 11,
      "outputs": [
        {
          "output_type": "stream",
          "text": [
            "請輸入一個整數？13\n",
            "13 為奇數\n"
          ],
          "name": "stdout"
        }
      ]
    },
    {
      "cell_type": "code",
      "metadata": {
        "id": "Zi5Z7UPln5m5",
        "colab_type": "code",
        "colab": {}
      },
      "source": [
        ""
      ],
      "execution_count": 0,
      "outputs": []
    }
  ]
}