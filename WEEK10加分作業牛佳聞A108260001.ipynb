{
  "nbformat": 4,
  "nbformat_minor": 0,
  "metadata": {
    "colab": {
      "name": "WEEK10加分作業牛佳聞A108260001.ipynb",
      "provenance": [],
      "include_colab_link": true
    },
    "kernelspec": {
      "name": "python3",
      "display_name": "Python 3"
    }
  },
  "cells": [
    {
      "cell_type": "markdown",
      "metadata": {
        "id": "view-in-github",
        "colab_type": "text"
      },
      "source": [
        "<a href=\"https://colab.research.google.com/github/NIU-502/--Computational-Thinking-and-Programming-Design-/blob/master/WEEK10%E5%8A%A0%E5%88%86%E4%BD%9C%E6%A5%AD%E7%89%9B%E4%BD%B3%E8%81%9EA108260001.ipynb\" target=\"_parent\"><img src=\"https://colab.research.google.com/assets/colab-badge.svg\" alt=\"Open In Colab\"/></a>"
      ]
    },
    {
      "cell_type": "code",
      "metadata": {
        "id": "2ZtZfT5ypsqQ",
        "colab_type": "code",
        "colab": {
          "base_uri": "https://localhost:8080/",
          "height": 153
        },
        "outputId": "15fc0c04-321b-4867-e1a9-522fde3fed00"
      },
      "source": [
        "print(\"First LOOK around\")\n",
        "do1 = input(\"玩就打 LOOK::\")\n",
        "\n",
        "if do1 == \"LOOK\":\n",
        "    print(\"Start to Play\")\n",
        "    print(\"Choose LEFT or RIGHT\")\n",
        "\n",
        "    do2 = input(\"選左或右::\")\n",
        "    if do2 == \"LEFT\":\n",
        "      print(\"Keep on!\")\n",
        "      print(\"看到食物\")\n",
        "      print(\"Food - CRAB or STARFISH\")\n",
        "\n",
        "    do3 = input(\"吃海星或吃螃蟹::\")\n",
        "    if do3 == \"STARFISH\":\n",
        "      print(\"Sorry,Fail.\")\n",
        "    elif do3 == \"CRAB\":\n",
        "      print(\"You get energy.\")\n",
        "      print(\"Yes or No\")\n",
        "\n",
        "    do4 = input(\"生吃嗎?::\")\n",
        "    if do4 == \"Yes\":\n",
        "      print(\"You have a chance to survive!\")\n",
        "    elif do4 == \"No\":\n",
        "      print(\"Sorry,You will die.\")\n",
        "\n",
        "    elif d02 == \"RIGHT\":\n",
        "      print(\"Sorry,you fall down.\")\n",
        "\n",
        "\n",
        "else:\n",
        "  print(\"請打大寫LOOK或遊戲結束\")"
      ],
      "execution_count": 3,
      "outputs": [
        {
          "output_type": "stream",
          "text": [
            "First LOOK around\n",
            "玩就打 LOOK::LOOK\n",
            "Start to Play\n",
            "Choose LEFT or RIGHT\n",
            "選左或右::RIGHT\n",
            "吃海星或吃螃蟹::螃蟹\n",
            "生吃嗎?::Yes\n",
            "You have a chance to survive!\n"
          ],
          "name": "stdout"
        }
      ]
    },
    {
      "cell_type": "code",
      "metadata": {
        "id": "adT70o1op_Wc",
        "colab_type": "code",
        "colab": {}
      },
      "source": [
        ""
      ],
      "execution_count": 0,
      "outputs": []
    }
  ]
}